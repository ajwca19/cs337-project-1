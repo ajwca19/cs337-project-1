{
 "cells": [
  {
   "cell_type": "code",
   "execution_count": 1,
   "id": "478de2fe-5c43-4bdf-bda5-45372d9c34ed",
   "metadata": {},
   "outputs": [],
   "source": [
    "# Importing necessary modules\n",
    "import pandas as pd\n",
    "import nltk\n",
    "import re\n",
    "import random\n",
    "from heapq import nlargest"
   ]
  },
  {
   "cell_type": "code",
   "execution_count": 2,
   "id": "4b741080-5b6e-49f4-8b3b-116b7ea68645",
   "metadata": {},
   "outputs": [],
   "source": [
    "# Setting up notebook to display multiple outputs in one cell\n",
    "from IPython.core.interactiveshell import InteractiveShell\n",
    "InteractiveShell.ast_node_interactivity = \"all\""
   ]
  },
  {
   "cell_type": "code",
   "execution_count": 3,
   "id": "35a765fb-ba77-4dde-9e7f-b3725226ac49",
   "metadata": {},
   "outputs": [
    {
     "data": {
      "text/html": [
       "<div>\n",
       "<style scoped>\n",
       "    .dataframe tbody tr th:only-of-type {\n",
       "        vertical-align: middle;\n",
       "    }\n",
       "\n",
       "    .dataframe tbody tr th {\n",
       "        vertical-align: top;\n",
       "    }\n",
       "\n",
       "    .dataframe thead th {\n",
       "        text-align: right;\n",
       "    }\n",
       "</style>\n",
       "<table border=\"1\" class=\"dataframe\">\n",
       "  <thead>\n",
       "    <tr style=\"text-align: right;\">\n",
       "      <th></th>\n",
       "      <th>text</th>\n",
       "    </tr>\n",
       "  </thead>\n",
       "  <tbody>\n",
       "    <tr>\n",
       "      <th>0</th>\n",
       "      <td>jlo's dress! #eredcarpet #goldenglobes</td>\n",
       "    </tr>\n",
       "    <tr>\n",
       "      <th>1</th>\n",
       "      <td>what's making sofia vergara's boobs stay like ...</td>\n",
       "    </tr>\n",
       "    <tr>\n",
       "      <th>2</th>\n",
       "      <td>anne hathaway has got me living. #goldenglobes</td>\n",
       "    </tr>\n",
       "    <tr>\n",
       "      <th>3</th>\n",
       "      <td>jennifer lopez's lace dress? thoughts? #golden...</td>\n",
       "    </tr>\n",
       "    <tr>\n",
       "      <th>4</th>\n",
       "      <td>podrán criticar a #adele de su moda y su maniq...</td>\n",
       "    </tr>\n",
       "    <tr>\n",
       "      <th>...</th>\n",
       "      <td>...</td>\n",
       "    </tr>\n",
       "    <tr>\n",
       "      <th>105785</th>\n",
       "      <td>thank god anne hathaway and hugh jackman won f...</td>\n",
       "    </tr>\n",
       "    <tr>\n",
       "      <th>105786</th>\n",
       "      <td>ben affleck celebrates his win backstage. #gol...</td>\n",
       "    </tr>\n",
       "    <tr>\n",
       "      <th>105787</th>\n",
       "      <td>golden globes, lots of fashion messes...but gl...</td>\n",
       "    </tr>\n",
       "    <tr>\n",
       "      <th>105788</th>\n",
       "      <td>did they have mug shots at the golden globes?!...</td>\n",
       "    </tr>\n",
       "    <tr>\n",
       "      <th>105789</th>\n",
       "      <td>says @benaffleck: \"i also didn't get the actin...</td>\n",
       "    </tr>\n",
       "  </tbody>\n",
       "</table>\n",
       "<p>105790 rows × 1 columns</p>\n",
       "</div>"
      ],
      "text/plain": [
       "                                                     text\n",
       "0                  jlo's dress! #eredcarpet #goldenglobes\n",
       "1       what's making sofia vergara's boobs stay like ...\n",
       "2          anne hathaway has got me living. #goldenglobes\n",
       "3       jennifer lopez's lace dress? thoughts? #golden...\n",
       "4       podrán criticar a #adele de su moda y su maniq...\n",
       "...                                                   ...\n",
       "105785  thank god anne hathaway and hugh jackman won f...\n",
       "105786  ben affleck celebrates his win backstage. #gol...\n",
       "105787  golden globes, lots of fashion messes...but gl...\n",
       "105788  did they have mug shots at the golden globes?!...\n",
       "105789  says @benaffleck: \"i also didn't get the actin...\n",
       "\n",
       "[105790 rows x 1 columns]"
      ]
     },
     "execution_count": 3,
     "metadata": {},
     "output_type": "execute_result"
    }
   ],
   "source": [
    "# Reading in and processing the gg2013 tweets file\n",
    "tweets = pd.read_json('gg2013.json')\n",
    "#for i in range(0, len(tweets)):    \n",
    "#    tweets.at[i, 'text'] = re.sub(\"^RT @[a-zA-Z0-9_]*: \", \"\", tweets.loc[i]['text']).lower()\n",
    "\n",
    "# Subsetting to tweets that are not retweets\n",
    "no_retweets = []\n",
    "for j in range(0, len(tweets)):\n",
    "    text = tweets.loc[j]['text']\n",
    "    if not re.search(\"^RT\", text):\n",
    "        no_retweets.append(text.lower())\n",
    "\n",
    "no_retweets_df = pd.DataFrame({'text': no_retweets})\n",
    "no_retweets_df"
   ]
  },
  {
   "cell_type": "code",
   "execution_count": 4,
   "id": "8d1c5a80-03f4-4473-8951-2e37dfb960f7",
   "metadata": {},
   "outputs": [
    {
     "name": "stdout",
     "output_type": "stream",
     "text": [
      "{'best actor': 32, 'best movie': 1, \"best dressed i'm obsessed with that dress\": 1, 'best supporting actor': 26, 'best supporting': 1, 'best supporting actor did not think that was gonna happen': 1, 'best suppporting actor': 1, \"best supporting actor haven't seen django yet but i can already guarantee this is definitely deserved\": 1, 'best supporting actor - motion picture': 1, 'best supporting actress in a miniseries': 1, 'best director': 53, 'best supporting actor in django unchained\\nmaggie smith wins': 1, \"best supporting actress - and i'm 1- for -1 (a pretty obvious pick though - so i'm not getting cocky yet)\": 1, 'best miniseries': 2, 'best mini - series or tv movie': 5, 'best miniseries or tv movie': 1, 'best tv movie?': 1, 'best mini - series or motion picture made': 1, 'best mini series/ tv movie': 1, 'best tv movie': 2, 'best mini - series': 2, 'best tv mini series/drama': 1, 'best tv movie/mini - series definitely not surprised': 1, 'best mini series or tv movie': 1, 'best mini - series or tv movie category': 1, 'best actress in tv movie': 1, \"best picture over lincoln - i'm honestly going to kill someone\": 1, 'best actress in a miniseries or tv movie': 1, 'best actress in a mini - series or tv movie': 2, 'best actress': 25, 'best actress in a tv series': 2, 'best actress in a tv movie': 1, 'best supporting actor globe': 10, 'best actress in a mini series or tv movie': 1, 'best actress and why was american horror story not nominated': 1, 'best life': 1, 'best t - mobile commercial in 2005': 2, 'best actress in mini - series/tv movie': 1, 'best supporting actress': 27, 'best actress in mini - series': 1, 'best picture?': 1, 'best actress in a tv miniseries or movie': 1, 'best actor in a tv show i disagree': 1, 'best actor tv series or drama': 1, 'best actor - tv series drama': 1, 'best actor in a tv series': 2, 'best actor in a tv drama': 2, 'best tv actor': 1, 'best actor in a drama (tv)': 1, 'best actor tv series': 1, 'best drama': 9, 'best tv series - drama': 1, 'best tv drama': 5, 'best show on the tube i can dig it': 1, 'best drama tv': 1, 'best drama - definitely a lot of deserving nominees this year': 1, 'best drama and': 1, 'best tv drama series': 2, 'best tv drama much much deserved': 1, 'best actress and first person to “give a shout - out”': 1, 'best television series - drama': 2, 'best tv series golden globe award': 1, 'best drama series': 1, 'best tv series drama': 4, 'best telelvision series': 1, 'best show on tv not nominated': 1, 'best actor in tv series drama golden globes 2013': 1, 'best dress i hope she wins': 1, 'best tv show drama': 1, 'best original score - motion picture': 1, 'best score': 2, 'best score poor cloud atlas': 1, 'best original score\"': 1, 'best original score': 4, 'best actress in a drama series?😒': 1, 'best soundtrack score': 1, \"best original song - but so is keith urban - he's aussie so in should root\": 1, 'best score - adele takes': 1, 'best song': 38, 'best original song': 23, 'best original song like they were supposed to': 1, 'best original song awesome song': 1, 'best song - unsurprisingly seriously - adele should sing the theme song': 1, 'best original song write a song about it - t swift': 1, 'best original song motion picture': 1, 'best song in movie': 1, 'best supportin actor': 1, 'best song:-)&gt;&lt;': 1, 'best score?': 1, 'best drama serieswho would u pick? cause i would take bb any day': 1, 'best speech so far': 1, 'best original song in a motion picture': 2, 'bests original beard': 1, 'best': 6, 'best actor in a miniseries or motion picture made': 3, 'best animation golden globes': 1, 'best actor in a mini - series/tv movie': 1, 'best actor - tv movie or mini and he could care less': 1, 'best actor mini series / tv movie': 1, 'best song \"skyfall\" a well deserved win': 1, 'best heist of her mothers drapes in lieu of a dress': 1, 'best actor who did not have sex with that woman': 2, 'best song:': 1, 'best original song in the golden globes another achievement adele': 1, \"best reaction to pimp billy the real's entrance\": 1, 'best actor in a miniseries': 2, 'best picture and ddl wins': 1, 'best actor in a drama series': 1, 'best pic': 1, 'best presenter of any award': 1, 'best actress none': 1, 'best actress in comedy/musical': 1, 'best actress in a motion picture - comedy': 2, 'best actress in a comedy': 4, 'best actress motion picture comedy or musical': 1, 'best actress in a comedy or musical hmm jessica chastain might not have a lock on oscar?': 1, 'best actress: motion picture - comedy or musical': 1, 'best actress in a motion picture': 1, 'best actress in a comedy/musical': 1, 'best actress in a comedy or musical': 4, 'best actress - motion picture comedy or musical': 2, 'best actress in comedy or musical in film heard mixed reviews on silver lingings playbook as a whole': 1, 'best new actor': 1, 'best original song while taylor swift gives her stank eye': 2, 'best movie in ages mt': 1, 'best actress |': 2, 'best actress in a comedy or musical movie': 2, \"best original song while taylor swift gives her stank eye\\nthat's e\": 1, 'best actress in a musical/comedy': 1, 'best actress motion picture': 1, 'best supporting actor (tv)': 1, 'best actress comedy/musical first win of the night': 1, 'best supporting actor - tv movie': 1, 'best supporting actress haters to the left \"blerg': 1, 'best peter pan haircut': 1, 'best supporting actress in a motion picture - les miserables': 1, 'best actress in a drama': 4, 'best actress in a supporting role in a motion picture the': 2, 'best actress in a musical or comedy golden globes 2013': 3, 'best supporting actress in a motion picture': 3, 'best actor in a tv miniseries/movie': 1, 'best supporting actor in a series - i like ed harris but mandy patinkin was robbed': 1, 'best director on these': 1, 'best actress in a motion picture - musical or comedy': 1, 'best supporting actress in a motion picture with les miserables': 1, 'best supporting actress xd': 1, 'best screenplay': 13, 'best screenplay - motion picture': 2, \"best screenplay  very well deserved  he's amazing  always amazing\": 1, 'best motion picture screenplay': 3, 'best supporting actress -': 1, 'best director - motion picture': 4, 'best screenplay well deserved': 1, 'best dramatic role during comedy': 1, 'best screenplay - called it': 1, 'best screenplay - of course': 1, 'best actor in a tv comedy/musical': 1, 'best actor in tv series/comedy or musical': 1, 'best tv musical or comedy': 1, 'best actor in a television series - comedy or musical': 1, 'best actor in a tv series - comedy': 1, 'best actor - tv comedy award': 1, 'best screenplay: golden globes 2013': 1, 'best actor in a comedy or musical tv series': 2, 'best original screenplay i missed his speech': 1, 'best drama - and mad men wasn’t adjust your rage meter accordingly': 1, 'best performance by an actress in a tv series': 1, 'best original song goes to \"skyfall\"': 1, 'best screenplaylast won': 1, \"best picture in the oscars - it's going to win foreign film\": 1, 'best foreign language film': 6, 'best foreign film still need to see it': 1, 'best foreign language': 1, 'best foreign lang film': 1, 'best foreign film': 3, 'best performance by an actress in a television series - drama': 1, 'best actress in a tv series drama': 4, 'best actress in a tv drama': 1, 'best drama tv actress': 1, 'best actress (tv drama)': 1, 'best performance in tv series - drama': 1, 'best actress in drama': 1, 'best actess in a tv series drama': 1, 'best tv actor - comedy - tarantino wins screenplay award: jennifer lawrence': 2, 'best actress in a tv miniseries or motion picture made…': 1, 'best actress tv - drama \"i want to thank the other women in this category - who are so badass\"': 1, 'best tv series - drama\"': 1, 'best actress in a drama television series': 1, 'best actress: drama': 1, 'best animated feature': 5, \"best animated feature because - y'know - star - fuckery\": 1, 'best animated feature film': 4, 'best animated film - great year': 1, 'best animated film': 4, 'best actor and actress respectively in drama series': 1, 'best animated feature film | via': 3, 'best animated movie': 2, 'best actress in a tv series (comedy or musical)': 1, 'best actress in a tv series - comedy or musical': 2, 'best performance by an actress in a tv musical or comedy': 1, 'best actress in a television series': 1, 'best performance by an actress in a tv series - musical or comedy': 1, 'best actress in a tv series - comedy/musical thanks to \"girls\"': 1, 'best tv actress in a comedy from girls': 1, 'best actress in tv': 1, 'best actor in a tv movie': 3, 'bestsupporting actress in a motion picture': 1, 'best tv series actress (comedy or musical)': 1, 'best cleavage award': 1, 'best actress in a comedy series': 2, \"best director - but i'd love one of the oscar snubs to win it\": 1, 'best film director': 1, 'best recovery from a j - lo relationship': 1, 'best director  aka the \"in your face matt damon\" award': 1, 'best director and a standing ovation': 1, 'best director he wins - we all win ben affleck yezzzzzzzz': 1, 'best tv series: comedy or musical': 1, 'best tv series - comedy or musical': 2, 'best comedy yaaaaaaaay': 1, 'best comedy': 7, 'best musical or comedy': 2, 'best television show musical/comedy': 1, 'best comedy series': 1, 'best television series - comedy or misical': 1, 'best tv series  - comedy or musical': 1, 'best tv series comedy or musical': 1, 'best director award': 1, 'best comedy - i forgot that smash was a tv show': 1, 'best tv series': 2, 'best comedy series - in a golden globes hosted (nailed) by tina fey and amy poehler so lololololol': 1, 'best tv comedy |': 2, 'best movie?': 1, 'best tv series - musical or comedy': 1, 'best actress in a': 1, 'best actor in a motion picture musical or comedy': 1, 'best actor - musical/comedy': 1, 'best actor comedy/musical': 1, 'best actor: movie - comedy or musical sing - talk to me - hugh': 1, 'best actor - comedy or musical': 2, 'best actor in a comedy/musical': 1, 'best actor in a comedy or musical': 2, 'best tv actress (comedy)': 1, 'best actor in musical or comedybut it should have been jack black': 1, 'best motion picture': 12, 'best performance in a motion picture': 1, 'best actress in a tv series comedy series:': 1, 'best comedy or musical tv series': 2, 'best actor big win': 1, 'best husband': 1, 'best picture': 19, \"best actress i'm going to get a cheeseburger and pinkberry if she doesn't win - i'm getting a soup and salad\": 1, 'best actor in a film golden globes 2013 via': 1, 'best motion picture - comedy or musical': 10, 'best comedy or musical': 1, 'best comedy / musical': 1, 'best musical of comedy': 1, 'best picture of the year': 1, 'best picture  great': 1, 'best motion picture - musical or comedy': 2, 'best motion picture: comedy or musical': 1, 'best comedy/musical -': 1, 'best picture musical/comedy': 1, 'best picture - comedy/musical fuck my life': 1, \"best foreign film - 'brave' wins\": 2, 'best movie comedy or musical': 1, 'best musical/comedy': 1, 'best motion picture (comedy or musical)': 2, 'best picture - comedy or musical': 7, 'best picture comedy/musical': 1, 'best picture: \"again - as expected - les miz wins': 1, 'best motion picture: comedy or musical great and powerful movie': 1, 'best picture i could see it 100 times': 1, 'best picture won the bet that \"do you hear the people sing\" plays': 1, 'best comedy or musicial': 2, 'best actress\\n      quote:': 3, 'best actress\\n      quote:\\xa0\\n    \\n            \\n                    this show is': 1, 'best actor &amp;': 1, 'best comedy/musical': 1, 'best picture (comedy or musical) good call afp - good call': 1, 'best picture - musical or comedy': 5, 'best song in a motion picture': 1, 'best director globe': 1, 'best foreign language film: \"amour\" won the golden globe': 3, 'best tv comedy': 1, 'best actress drama': 2, 'best actress in motion picture - drama': 1, \"best motion pic (comedy/musical)- only two were screened here ☹ let's hope we get the rest - too\": 1, 'best actress in a dramatic film': 4, 'best actress - drama': 3, 'best actress in a motion picture - drama': 4, 'best actress in the great zero dark 30 well deserved': 1, 'best actor | the wrap awards': 1, 'best musical  picture': 1, 'best old man crush': 1, 'best actress - musical or comedy': 1, 'best actor in a motion picture drama': 2, 'best actor in a motion picture - drama': 1, 'best actor (drama)': 2, 'best actor in a drama': 4, 'best actor in a drama - hands down his performance in lincoln was legendary': 1, 'best actress and looks gorgeous icy blue calvin klein': 1, 'best actor - drama': 6, 'best actor in a motion picture (drama)': 1, \"best actor  i'm shocked\": 1, 'best actor in drama - as world collectively says \"duhagain': 1, 'best picture the brits (even the angloirish) understand this': 1, 'best picture - comedy or musical: \"les miserables\" was named': 1, 'best actor: drama (8': 1, 'best actor in a motion picture – drama': 2, 'best actress in a motion picture - drama -': 1, 'best actor in a motion picture in the comedy or musical category': 1, 'best actor in a motion picture - comedy or musical': 2, \"best poor man's the untouchables - no?\": 1, 'best actor award': 1, 'best drama picture': 1, 'best picture - drama': 13, 'best motion picture drama': 8, 'best motion picture (drama)': 1, 'best actor motion picture drama \"lincoln\"': 1, \"best motion picture - drama i'm a fan of ben affleck's works but i did not see that coming\": 1, 'best picture daniel day lewis wins': 1, 'best original song goes to skyfall 13/01/2013': 1, 'best dramatic picture oh please thank canada this time - ben come on': 1, 'bestmotiompicture': 1, 'best picture &amp;': 1, 'best actor in a musical or comedy award': 2, \"best drama that's kind of a surprise betting was on lincoln\": 1, 'best picture drama': 1, \"best picture didn't see that coming\": 1, 'best picture - drama all films nominated were great': 1, 'best actor in a motion picture in the drama category': 1, 'best motion picture - drama': 3, \"best drama just goes to show it's more honest than the academy awards will be\": 1, 'best lead actor in a drama': 1, 'best picture: drama argo fuck yourself - academy ben affleck out': 1, \"best motion picture drama yet it wasn't nominated\": 1, 'best picture - beating out \"lincoln\"': 1, 'best motion picture and': 1, 'best picture  that was my favorite but there were many good movies this year  tough competetion': 1, 'best director &amp; motion picture - drama': 1, 'best motion picture well deserved': 1, \"best drama - and it's done need sleep\": 1, 'best picture -': 2, 'best movie drama': 1, 'best actress in a motion picture – drama': 1, 'best film drama': 1, 'best  actress in a musical or comedy golden globes 2013': 1, 'best drama this actually gives it some oscar momentum - probably\"': 1, 'best comedy/musical movie': 5, 'best picture and': 1, 'best motion picture drama &amp;': 1, 'best actor and anne hathaway wins': 3, 'best director and his movie \"argo\"': 1, 'best picture - drama and \"les miserables\" wins': 4, 'best director despite oscar snub': 1, 'best director and': 1, 'best picture - drama and \"': 1, 'best director \"casper - stand up &amp; clap - stand up': 1, 'best pic - cuz it just won': 1, 'best school in asia': 1, 'best actor motion picture - drama': 1, \"best drama - 'les miserables' wins\": 1, 'best actor in motion picture - comedy or musical': 1, 'best film -': 1, 'best drama film': 1, 'best hollywood movie  voted on by  the hollywood foreign press': 1, 'best original song goes to skyfall 2013 golden globes': 1, 'best picture - anne hathaway wins': 1, 'best actor comedy/musical\\nso well deserved': 1, 'best actor in a musical/comedy:': 1, 'best original song goes to skyfall 2013 go:': 1, 'best actress - motion picture - comedy or musical': 1}\n",
      "['best director', 'best song', 'best actor', 'best supporting actress', 'best supporting actor', 'best actress', 'best original song', 'best picture', 'best screenplay', 'best picture - drama', 'best motion picture', 'best supporting actor globe', 'best motion picture - comedy or musical', 'best drama', 'best motion picture drama', 'best comedy', 'best picture - comedy or musical', 'best', 'best foreign language film', 'best actor - drama', 'best mini - series or tv movie', 'best tv drama', 'best animated feature', 'best picture - musical or comedy', 'best comedy/musical movie']\n"
     ]
    }
   ],
   "source": [
    "# Searching tweets for the specified regular expression\n",
    "possible_award_tweets = [] # List of possible tweets mentioning awards\n",
    "#for j in range(0, len(tweets)):\n",
    "#    text = tweets.loc[j]['text']\n",
    "for j in range(0, len(no_retweets_df)):\n",
    "    text = no_retweets_df.loc[j]['text']\n",
    "    if re.search(\"wins best\", text) or re.search(\"nominated for best\", text):\n",
    "        possible_award_tweets.append(text) # Save a tweet if it contains \"wins best\" or \"nominated for best\"\n",
    "\n",
    "# Splitting the possible tweets mentioning awards on best, and keeping only the right-hand side\n",
    "possible_award_names = []\n",
    "for award in possible_award_tweets:\n",
    "    split_award = award.split(\"best\")\n",
    "    split_award_rhs = split_award[1]\n",
    "    split_award_rhs = \"best\" + split_award_rhs # Appending 'best' back to the beginning of the right-hand side\n",
    "    # Cleaning up the possible award names by taking some extra stuff out\n",
    "    split_award_rhs = re.sub(\" for .*\", \"\", split_award_rhs) # Deleting everything that falls after the word \"for\", which is usually the winner name\n",
    "    split_award_rhs = re.sub(\"#.*\", \"\", split_award_rhs) # Deleting everything that falls after a hashtag, since these are usually after the award names\n",
    "    split_award_rhs = re.sub(\"@.*\", \"\", split_award_rhs) # Deleting everything that falls after an @\n",
    "    split_award_rhs = re.sub(\"\\.|!.*\", \"\", split_award_rhs) # Deleting everything that falls after a period or exclamation point, since these are after award names\n",
    "    split_award_rhs = re.sub(\" at .*\", \"\", split_award_rhs) # Deleting everything that falls after \"at \", since that is usually followed by the ceremony name\n",
    "    split_award_rhs = re.sub(\"http.*\", \"\", split_award_rhs) # Deleting all web addresses\n",
    "    split_award_rhs = re.sub(\"congrat.*\", \"\", split_award_rhs) # Deleting everything following \"congrats\" or \"congratulations\"\n",
    "    split_award_rhs = re.sub(\",\", \"-\", split_award_rhs) # Changing all commas to dashes\n",
    "    split_award_rhs = re.sub(\"-$\", \"\", split_award_rhs) # Deleting all dashes that end lines\n",
    "    split_award_rhs = re.sub(r'([a-z])(-)', r'\\g<1> \\g<2>', split_award_rhs) # Adding a space in between a character and dash\n",
    "    split_award_rhs = re.sub(r'(-)([a-z])', r'\\g<1> \\g<2>', split_award_rhs) # Adding a space in between a dash and character\n",
    "    split_award_rhs = split_award_rhs.strip() # Deleting leading and trailing spaces\n",
    "    possible_award_names.append(split_award_rhs)\n",
    "\n",
    "# Counting the occurrences of all possible award names\n",
    "possible_award_names_count = {}\n",
    "for award in possible_award_names:\n",
    "    if award != \"best\": # Possible award string is not only the word \"best\"\n",
    "        if award not in possible_award_names_count:\n",
    "            possible_award_names_count[award] = 1\n",
    "        else:\n",
    "            possible_award_names_count[award] += 1\n",
    "print(possible_award_names_count)\n",
    "\n",
    "# Keeping the top 25 mentioned award names\n",
    "awards = nlargest(25, possible_award_names_count, key = possible_award_names_count.get)\n",
    "print(awards)"
   ]
  },
  {
   "cell_type": "code",
   "execution_count": 13,
   "id": "44254563-3bbc-47fc-96dd-ba0a6de160a7",
   "metadata": {},
   "outputs": [],
   "source": [
    "# Adding the award name to the 'answers' DataFrame\n",
    "answers = pd.DataFrame({'award': awards})\n",
    "answers"
   ]
  },
  {
   "cell_type": "code",
   "execution_count": null,
   "id": "19c70d2a-dc70-4092-b4e2-f4f11fa1382c",
   "metadata": {},
   "outputs": [],
   "source": []
  }
 ],
 "metadata": {
  "kernelspec": {
   "display_name": "Python 3",
   "language": "python",
   "name": "python3"
  },
  "language_info": {
   "codemirror_mode": {
    "name": "ipython",
    "version": 3
   },
   "file_extension": ".py",
   "mimetype": "text/x-python",
   "name": "python",
   "nbconvert_exporter": "python",
   "pygments_lexer": "ipython3",
   "version": "3.8.8"
  }
 },
 "nbformat": 4,
 "nbformat_minor": 5
}
